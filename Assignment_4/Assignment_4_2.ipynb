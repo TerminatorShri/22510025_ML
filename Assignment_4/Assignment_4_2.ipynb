{
 "cells": [
  {
   "cell_type": "code",
   "execution_count": null,
   "id": "0",
   "metadata": {},
   "outputs": [],
   "source": [
    "import numpy as np\n",
    "import matplotlib.pyplot as plt\n",
    "from sklearn.model_selection import train_test_split\n",
    "from sklearn.preprocessing import StandardScaler\n",
    "from sklearn.metrics import accuracy_score\n",
    "from scipy.stats import multivariate_normal"
   ]
  },
  {
   "cell_type": "code",
   "execution_count": null,
   "id": "1",
   "metadata": {},
   "outputs": [],
   "source": [
    "np.random.seed(42)\n",
    "num_samples = 1000"
   ]
  },
  {
   "cell_type": "code",
   "execution_count": null,
   "id": "2",
   "metadata": {},
   "outputs": [],
   "source": [
    "mean_G1 = [166, 70]\n",
    "mean_G2 = [152, 55]"
   ]
  },
  {
   "cell_type": "code",
   "execution_count": null,
   "id": "3",
   "metadata": {},
   "outputs": [],
   "source": [
    "std_G1 = [5, 7]\n",
    "std_G2 = [5, 7]"
   ]
  },
  {
   "cell_type": "code",
   "execution_count": null,
   "id": "4",
   "metadata": {},
   "outputs": [],
   "source": [
    "correlation = 0.6"
   ]
  },
  {
   "cell_type": "code",
   "execution_count": null,
   "id": "5",
   "metadata": {},
   "outputs": [],
   "source": [
    "cov_G1 = [[std_G1[0]**2, correlation * std_G1[0] * std_G1[1]],\n",
    "          [correlation * std_G1[0] * std_G1[1], std_G1[1]**2]]\n",
    "\n",
    "cov_G2 = [[std_G2[0]**2, correlation * std_G2[0] * std_G2[1]],\n",
    "          [correlation * std_G2[0] * std_G2[1], std_G2[1]**2]]"
   ]
  },
  {
   "cell_type": "code",
   "execution_count": null,
   "id": "6",
   "metadata": {},
   "outputs": [],
   "source": [
    "X_G1 = np.random.multivariate_normal(mean_G1, cov_G1, num_samples)\n",
    "X_G2 = np.random.multivariate_normal(mean_G2, cov_G2, num_samples)"
   ]
  },
  {
   "cell_type": "code",
   "execution_count": null,
   "id": "7",
   "metadata": {},
   "outputs": [],
   "source": [
    "X = np.vstack((X_G1, X_G2))\n",
    "Y = np.hstack((np.zeros(num_samples), np.ones(num_samples)))"
   ]
  },
  {
   "cell_type": "code",
   "execution_count": null,
   "id": "8",
   "metadata": {},
   "outputs": [],
   "source": [
    "plt.figure(figsize=(10, 5))\n",
    "plt.scatter(X[:, 0], X[:, 1], c=Y, cmap='coolwarm', alpha=0.5)\n",
    "plt.xlabel(\"Height (cm)\")\n",
    "plt.ylabel(\"Weight (kg)\")\n",
    "plt.title(\"Original Data Distribution\")\n",
    "plt.colorbar(label=\"Class\")\n",
    "plt.show()"
   ]
  },
  {
   "cell_type": "code",
   "execution_count": null,
   "id": "9",
   "metadata": {},
   "outputs": [],
   "source": [
    "fig, axes = plt.subplots(1, 2, figsize=(12, 5))\n",
    "axes[0].hist(X_G1[:, 0], bins=30, alpha=0.5, label=\"Class 0 (Height)\", color='blue')\n",
    "axes[0].hist(X_G2[:, 0], bins=30, alpha=0.5, label=\"Class 1 (Height)\", color='red')\n",
    "axes[0].set_xlabel(\"Height (cm)\")\n",
    "axes[0].set_ylabel(\"Frequency\")\n",
    "axes[0].set_title(\"Height Distribution by Class\")\n",
    "axes[0].legend()\n",
    "\n",
    "axes[1].hist(X_G1[:, 1], bins=30, alpha=0.5, label=\"Class 0 (Weight)\", color='blue')\n",
    "axes[1].hist(X_G2[:, 1], bins=30, alpha=0.5, label=\"Class 1 (Weight)\", color='red')\n",
    "axes[1].set_xlabel(\"Weight (kg)\")\n",
    "axes[1].set_ylabel(\"Frequency\")\n",
    "axes[1].set_title(\"Weight Distribution by Class\")\n",
    "axes[1].legend()\n",
    "\n",
    "plt.tight_layout()\n",
    "plt.show()"
   ]
  },
  {
   "cell_type": "code",
   "execution_count": null,
   "id": "10",
   "metadata": {},
   "outputs": [],
   "source": [
    "X_train, X_test, Y_train, Y_test = train_test_split(X, Y, test_size=0.2, random_state=42)"
   ]
  },
  {
   "cell_type": "code",
   "execution_count": null,
   "id": "11",
   "metadata": {},
   "outputs": [],
   "source": [
    "scaler = StandardScaler()\n",
    "X_train = scaler.fit_transform(X_train)\n",
    "X_test = scaler.transform(X_test)"
   ]
  },
  {
   "cell_type": "code",
   "execution_count": null,
   "id": "12",
   "metadata": {},
   "outputs": [],
   "source": [
    "mean_train_G1 = np.mean(X_train[Y_train == 0], axis=0)\n",
    "mean_train_G2 = np.mean(X_train[Y_train == 1], axis=0)"
   ]
  },
  {
   "cell_type": "code",
   "execution_count": null,
   "id": "13",
   "metadata": {},
   "outputs": [],
   "source": [
    "cov_train_G1 = np.cov(X_train[Y_train == 0], rowvar=False)\n",
    "cov_train_G2 = np.cov(X_train[Y_train == 1], rowvar=False)"
   ]
  },
  {
   "cell_type": "code",
   "execution_count": null,
   "id": "14",
   "metadata": {},
   "outputs": [],
   "source": [
    "prior_G1 = len(Y_train[Y_train == 0]) / len(Y_train)\n",
    "prior_G2 = len(Y_train[Y_train == 1]) / len(Y_train)"
   ]
  },
  {
   "cell_type": "code",
   "execution_count": null,
   "id": "15",
   "metadata": {},
   "outputs": [],
   "source": [
    "def predict_bayes_correlated(X_input):\n",
    "    probs_G1 = prior_G1 * multivariate_normal.pdf(X_input, mean=mean_train_G1, cov=cov_train_G1)\n",
    "    probs_G2 = prior_G2 * multivariate_normal.pdf(X_input, mean=mean_train_G2, cov=cov_train_G2)\n",
    "\n",
    "    return np.array(probs_G2 > probs_G1, dtype=int)"
   ]
  },
  {
   "cell_type": "code",
   "execution_count": null,
   "id": "16",
   "metadata": {},
   "outputs": [],
   "source": [
    "Y_pred = predict_bayes_correlated(X_test)"
   ]
  },
  {
   "cell_type": "code",
   "execution_count": null,
   "id": "17",
   "metadata": {},
   "outputs": [],
   "source": [
    "accuracy_pooled = accuracy_score(Y_test, Y_pred)\n",
    "accuracy_pooled"
   ]
  }
 ],
 "metadata": {
  "kernelspec": {
   "display_name": "Python 3",
   "language": "python",
   "name": "python3"
  },
  "language_info": {
   "codemirror_mode": {
    "name": "ipython",
    "version": 2
   },
   "file_extension": ".py",
   "mimetype": "text/x-python",
   "name": "python",
   "nbconvert_exporter": "python",
   "pygments_lexer": "ipython2",
   "version": "2.7.6"
  }
 },
 "nbformat": 4,
 "nbformat_minor": 5
}
