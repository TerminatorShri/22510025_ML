{
 "cells": [
  {
   "cell_type": "code",
   "execution_count": null,
   "id": "0",
   "metadata": {},
   "outputs": [],
   "source": [
    "import numpy as np\n",
    "import pandas as pd\n",
    "import matplotlib.pyplot as plt\n",
    "from sklearn.model_selection import train_test_split\n",
    "from sklearn.metrics import accuracy_score\n",
    "from scipy.stats import norm"
   ]
  },
  {
   "cell_type": "code",
   "execution_count": null,
   "id": "1",
   "metadata": {},
   "outputs": [],
   "source": [
    "np.random.seed(42)\n",
    "num_samples = 1000"
   ]
  },
  {
   "cell_type": "code",
   "execution_count": null,
   "id": "2",
   "metadata": {},
   "outputs": [],
   "source": [
    "height_G1 = np.random.normal(loc=166, scale=5, size=num_samples)\n",
    "hb_G1 = np.random.normal(loc=14, scale=1.5, size=num_samples)"
   ]
  },
  {
   "cell_type": "code",
   "execution_count": null,
   "id": "3",
   "metadata": {},
   "outputs": [],
   "source": [
    "height_G2 = np.random.normal(loc=152, scale=5, size=num_samples)\n",
    "hb_G2 = np.random.normal(loc=13, scale=1.5, size=num_samples)"
   ]
  },
  {
   "cell_type": "code",
   "execution_count": null,
   "id": "4",
   "metadata": {},
   "outputs": [],
   "source": [
    "# Plot histograms\n",
    "fig, axes = plt.subplots(1, 2, figsize=(12, 5))\n",
    "\n",
    "# Height Distribution\n",
    "axes[0].hist(height_G1, bins=30, alpha=0.6, color='blue', label=\"Class G1\")\n",
    "axes[0].hist(height_G2, bins=30, alpha=0.6, color='red', label=\"Class G2\")\n",
    "axes[0].set_title(\"Height Distribution\")\n",
    "axes[0].set_xlabel(\"Height (cm)\")\n",
    "axes[0].set_ylabel(\"Frequency\")\n",
    "axes[0].legend()\n",
    "\n",
    "# Haemoglobin Distribution\n",
    "axes[1].hist(hb_G1, bins=30, alpha=0.6, color='blue', label=\"Class G1\")\n",
    "axes[1].hist(hb_G2, bins=30, alpha=0.6, color='red', label=\"Class G2\")\n",
    "axes[1].set_title(\"Haemoglobin Distribution\")\n",
    "axes[1].set_xlabel(\"Haemoglobin (g/dL)\")\n",
    "axes[1].set_ylabel(\"Frequency\")\n",
    "axes[1].legend()"
   ]
  },
  {
   "cell_type": "code",
   "execution_count": null,
   "id": "5",
   "metadata": {},
   "outputs": [],
   "source": [
    "plt.figure(figsize=(8,6))\n",
    "plt.scatter(height_G1, hb_G1, label=\"Class 1 (G1)\", alpha=0.5)\n",
    "plt.scatter(height_G2, hb_G2, label=\"Class 2 (G2)\", alpha=0.5)\n",
    "plt.xlabel(\"Height (cm)\")\n",
    "plt.ylabel(\"Hemoglobin Level\")\n",
    "plt.legend()\n",
    "plt.title(\"Generated Data Distribution\")\n",
    "plt.show()"
   ]
  },
  {
   "cell_type": "code",
   "execution_count": null,
   "id": "6",
   "metadata": {},
   "outputs": [],
   "source": [
    "X = np.vstack((np.column_stack((height_G1, hb_G1)), np.column_stack((height_G2, hb_G2))))\n",
    "Y = np.hstack((np.zeros(num_samples), np.ones(num_samples)))"
   ]
  },
  {
   "cell_type": "code",
   "execution_count": null,
   "id": "7",
   "metadata": {},
   "outputs": [],
   "source": [
    "X_train, X_test, Y_train, Y_test = train_test_split(X, Y, test_size=0.2, random_state=42)"
   ]
  },
  {
   "cell_type": "code",
   "execution_count": null,
   "id": "8",
   "metadata": {},
   "outputs": [],
   "source": [
    "prior_G1 = prior_G2 = 0.5"
   ]
  },
  {
   "cell_type": "code",
   "execution_count": null,
   "id": "9",
   "metadata": {},
   "outputs": [],
   "source": [
    "x_train_G1 = X_train[Y_train == 0]\n",
    "x_train_G2 = X_train[Y_train == 1]"
   ]
  },
  {
   "cell_type": "code",
   "execution_count": null,
   "id": "10",
   "metadata": {},
   "outputs": [],
   "source": [
    "mean_height_G1, std_height_G1 = np.mean(x_train_G1[:, 0]), np.std(x_train_G1[:, 0])\n",
    "mean_hb_G1, std_hb_G1 = np.mean(x_train_G1[:, 1]), np.std(x_train_G1[:, 1])"
   ]
  },
  {
   "cell_type": "code",
   "execution_count": null,
   "id": "11",
   "metadata": {},
   "outputs": [],
   "source": [
    "mean_height_G2, std_height_G2 = np.mean(x_train_G2[:, 0]), np.std(x_train_G2[:, 0])\n",
    "mean_hb_G2, std_hb_G2 = np.mean(x_train_G2[:, 1]), np.std(x_train_G2[:, 1])"
   ]
  },
  {
   "cell_type": "code",
   "execution_count": null,
   "id": "12",
   "metadata": {},
   "outputs": [],
   "source": [
    "def predict_bayes(local_x):\n",
    "    probs_G1 = prior_G1 * norm.pdf(local_x[:, 0], mean_height_G1, std_height_G1) * norm.pdf(local_x[:, 1], mean_hb_G1, std_hb_G1)\n",
    "    probs_G2 = prior_G2 * norm.pdf(local_x[:, 0], mean_height_G2, std_height_G2) * norm.pdf(local_x[:, 1], mean_hb_G2, std_hb_G2)\n",
    "\n",
    "    return np.array(probs_G2 > probs_G1, dtype=int)"
   ]
  },
  {
   "cell_type": "code",
   "execution_count": null,
   "id": "13",
   "metadata": {},
   "outputs": [],
   "source": [
    "Y_pred_bayes = predict_bayes(X_test)"
   ]
  },
  {
   "cell_type": "code",
   "execution_count": null,
   "id": "14",
   "metadata": {},
   "outputs": [],
   "source": [
    "accuracy_score(Y_test, Y_pred_bayes)"
   ]
  }
 ],
 "metadata": {
  "kernelspec": {
   "display_name": "Python 3",
   "language": "python",
   "name": "python3"
  },
  "language_info": {
   "codemirror_mode": {
    "name": "ipython",
    "version": 2
   },
   "file_extension": ".py",
   "mimetype": "text/x-python",
   "name": "python",
   "nbconvert_exporter": "python",
   "pygments_lexer": "ipython2",
   "version": "2.7.6"
  }
 },
 "nbformat": 4,
 "nbformat_minor": 5
}
