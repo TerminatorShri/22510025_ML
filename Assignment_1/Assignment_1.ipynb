{
 "cells": [
  {
   "cell_type": "code",
   "id": "fc8455cd-f2af-4e19-a65f-55120c4a74aa",
   "metadata": {
    "tags": [],
    "ExecuteTime": {
     "end_time": "2025-01-23T06:14:02.501448Z",
     "start_time": "2025-01-23T06:13:59.283836Z"
    }
   },
   "source": [
    "import numpy as np\n",
    "from scipy.stats import norm\n",
    "import matplotlib.pyplot as plt"
   ],
   "outputs": [],
   "execution_count": 1
  },
  {
   "cell_type": "code",
   "id": "8f8d7f73-aa4e-49ee-b347-5c9cced8c635",
   "metadata": {
    "tags": [],
    "ExecuteTime": {
     "end_time": "2025-01-23T06:14:05.115944Z",
     "start_time": "2025-01-23T06:14:05.104149Z"
    }
   },
   "source": [
    "def generate_dataset(std_deviation):\n",
    "    \"\"\"\n",
    "    Generates a random dataset with given standard deviation and mean using a Gaussian Distribution ( Normal Distribution )\n",
    "    \"\"\"\n",
    "    male_heights = np.random.normal(mean_male_height, std_deviation, size)\n",
    "    female_heights = np.random.normal(mean_female_height, std_deviation, size)\n",
    "    \n",
    "    return male_heights, female_heights"
   ],
   "outputs": [],
   "execution_count": 3
  },
  {
   "cell_type": "code",
   "id": "8376c22e-4aeb-4013-80b9-e32a419d5a8e",
   "metadata": {
    "tags": [],
    "ExecuteTime": {
     "end_time": "2025-01-23T06:14:06.566900Z",
     "start_time": "2025-01-23T06:14:06.556500Z"
    }
   },
   "source": [
    "def likelihood(male_heights, female_heights, std_deviation):\n",
    "    \"\"\"\n",
    "    Calculates the likelihood of samples i.e. the probability density of each sample belonging to male and female distributions and compares to make prediction and counts the misclassified samples.\n",
    "    \"\"\"\n",
    "    male_likelihood_m = norm.pdf(male_heights, mean_male_height, std_deviation)\n",
    "    female_likelihood_m = norm.pdf(male_heights, mean_female_height, std_deviation)\n",
    "    misclassified_males = np.sum(female_likelihood_m > male_likelihood_m)\n",
    "\n",
    "    male_likelihood_f = norm.pdf(female_heights, mean_male_height, std_deviation)\n",
    "    female_likelihood_f = norm.pdf(female_heights, mean_female_height, std_deviation)\n",
    "    misclassified_females = np.sum(male_likelihood_f > female_likelihood_f)\n",
    "\n",
    "    return misclassified_males, misclassified_females\n"
   ],
   "outputs": [],
   "execution_count": 4
  },
  {
   "cell_type": "code",
   "id": "b401051a-f436-408d-a86e-aefccab47cd6",
   "metadata": {
    "tags": [],
    "ExecuteTime": {
     "end_time": "2025-01-23T06:59:11.094270Z",
     "start_time": "2025-01-23T06:59:11.077198Z"
    }
   },
   "source": [
    "def threshold(male_heights, female_heights, threshold_val):\n",
    "    \"\"\"\n",
    "    Male heights that are less than or equal to the given threshold will be misclassified as female and female heights that are greater than the given threshold will be misclassified as male.\n",
    "    \"\"\"\n",
    "    misclassified_males = np.sum(male_heights <= threshold_val)\n",
    "    misclassified_females = np.sum(female_heights > threshold_val)\n",
    "\n",
    "    return misclassified_males, misclassified_females\n"
   ],
   "outputs": [],
   "execution_count": 32
  },
  {
   "cell_type": "code",
   "id": "cbf7d2df-30f7-4d0b-99f4-261beefc22f2",
   "metadata": {
    "tags": [],
    "ExecuteTime": {
     "end_time": "2025-01-23T06:44:01.782931Z",
     "start_time": "2025-01-23T06:44:01.757296Z"
    }
   },
   "source": [
    "def quantization(male_heights, female_heights, interval):\n",
    "    \"\"\"\n",
    "    To predict which data point belongs to which bucket, we first need to determine the bin intervals (ranges). Once the intervals are defined, we identify the upper bound of each bin. To classify a data point, we compare its value with these intervals and assign it to the corresponding bin.\n",
    "    The prediction for a given bin is based on the mode (most frequent value) of the data points within that bin. The majority class in that bin will be the predicted class for any new data point falling into that bin. If a data point belongs to a bin but does not match the mode of that bin, it is considered misclassified.\n",
    "    The statement side = \"right\" is used to handle cases where a data point matches the exact end of an interval. Since the interval is not inclusive of the upper bound, the data point is assigned to the next interval. This ensures that any data point equal to the upper bound of an interval is classified into the subsequent bin.\n",
    "    \"\"\"\n",
    "    min_height = min(male_heights.min(), female_heights.min())\n",
    "    max_height = max(male_heights.max(), female_heights.max())\n",
    "    bins = np.arange(min_height, max_height + interval, interval)\n",
    "\n",
    "    male_counts = np.zeros(len(bins) - 1)\n",
    "    female_counts = np.zeros(len(bins) - 1)\n",
    "\n",
    "    for height in male_heights:\n",
    "        bin_index = np.searchsorted(bins, height, side='right') - 1\n",
    "        if 0 <= bin_index < len(male_counts):\n",
    "            male_counts[bin_index] += 1\n",
    "\n",
    "    for height in female_heights:\n",
    "        bin_index = np.searchsorted(bins, height, side='right') - 1\n",
    "        if 0 <= bin_index < len(female_counts):\n",
    "            female_counts[bin_index] += 1\n",
    "\n",
    "    misclassified_males = 0\n",
    "    misclassified_females = 0\n",
    "\n",
    "    for i in range(len(male_counts)):\n",
    "        if female_counts[i] > male_counts[i]:\n",
    "            misclassified_males += male_counts[i]\n",
    "        else:\n",
    "            misclassified_females += female_counts[i]\n",
    "\n",
    "    return misclassified_males, misclassified_females\n"
   ],
   "outputs": [],
   "execution_count": 27
  },
  {
   "metadata": {
    "ExecuteTime": {
     "end_time": "2025-01-23T06:28:17.391752Z",
     "start_time": "2025-01-23T06:28:17.373674Z"
    }
   },
   "cell_type": "code",
   "source": [
    "def plot_misclassification(mean_male_height, mean_female_height, std_deviation_values, intervals, size = 1000):\n",
    "    likelihood_males = []\n",
    "    likelihood_females = []\n",
    "    threshold_males = []\n",
    "    threshold_females = []\n",
    "    quantization_males = []\n",
    "    quantization_females = []\n",
    "\n",
    "    for std_deviation in std_deviation_values:\n",
    "        print(f\"\\nSD: {std_deviation} =>\")\n",
    "        male_heights, female_heights = generate_dataset(std_deviation)\n",
    "\n",
    "        # Likelihood Misclassification\n",
    "        misclassified_males, misclassified_females = likelihood(male_heights, female_heights, std_deviation)\n",
    "        print(\"\\nLIKELIHOOD CLASSIFICATION:\")\n",
    "        print(f\"Misclassified Males: {misclassified_males}\")\n",
    "        print(f\"Misclassified Females: {misclassified_females}\")\n",
    "        likelihood_males.append(misclassified_males)\n",
    "        likelihood_females.append(misclassified_females)\n",
    "\n",
    "        # Threshold Misclassification\n",
    "        mean = (mean_male_height + mean_female_height) / 2\n",
    "        misclassified_males, misclassified_females = threshold(male_heights, female_heights, mean)\n",
    "        print(\"\\nTHRESHOLD CLASSIFICATION:\")\n",
    "        print(f\"Misclassified Males: {misclassified_males}\")\n",
    "        print(f\"Misclassified Females: {misclassified_females}\")\n",
    "        threshold_males.append(misclassified_males)\n",
    "        threshold_females.append(misclassified_females)\n",
    "\n",
    "        # Quantization Misclassification\n",
    "        print(\"\\nQUANTIZATION CLASSIFICATION:\")\n",
    "        for interval in intervals:\n",
    "            print(f\"Quantization Interval: {interval}\")\n",
    "            misclassified_males, misclassified_females = quantization(male_heights, female_heights, interval)\n",
    "            print(f\"Misclassified Males: {misclassified_males}\")\n",
    "            print(f\"Misclassified Females: {misclassified_females}\\n\")\n",
    "            quantization_males.append(misclassified_males)\n",
    "            quantization_females.append(misclassified_females)\n",
    "\n",
    "        print(\"--------------------------------------------------------------------------------\")\n",
    "\n",
    "    # Plotting\n",
    "    plt.figure(figsize=(10, 6))\n",
    "\n",
    "    # Likelihood\n",
    "    plt.scatter(std_deviation_values, likelihood_males, color='blue', label='Likelihood Males', marker='o')\n",
    "    plt.scatter(std_deviation_values, likelihood_females, color='red', label='Likelihood Females', marker='x')\n",
    "\n",
    "    # Threshold\n",
    "    plt.scatter(std_deviation_values, threshold_males, color='green', label='Threshold Males', marker='o')\n",
    "    plt.scatter(std_deviation_values, threshold_females, color='orange', label='Threshold Females', marker='x')\n",
    "\n",
    "    # Quantization\n",
    "    repeated_std = np.repeat(std_deviation_values, len(intervals))\n",
    "    plt.scatter(repeated_std, quantization_males, color='purple', label='Quantization Males', marker='o')\n",
    "    plt.scatter(repeated_std, quantization_females, color='pink', label='Quantization Females', marker='x')\n",
    "\n",
    "    plt.xlabel('Standard Deviation')\n",
    "    plt.ylabel('Misclassified Samples')\n",
    "    plt.title('Misclassification Comparison')\n",
    "    plt.legend()\n",
    "    plt.show()"
   ],
   "id": "5890778473ccec44",
   "outputs": [],
   "execution_count": 25
  },
  {
   "cell_type": "code",
   "id": "17f2f523-f65c-4d86-bce6-148c569f26bc",
   "metadata": {
    "tags": [],
    "ExecuteTime": {
     "end_time": "2025-01-23T06:50:54.909993Z",
     "start_time": "2025-01-23T06:50:54.403563Z"
    }
   },
   "source": [
    "mean_male_height = 166\n",
    "mean_female_height = 152\n",
    "size = 1000\n",
    "\n",
    "# For same interval mis-classification increases as standard deviation goes on increasing\n",
    "std_deviation_values = np.arange(1, 11, 0.5)\n",
    "intervals = [1]\n",
    "\n",
    "# May lead to overfitting as we may not be able to capture noises and complex patterns as data is split into many small segments\n",
    "# intervals = [0.00001]\n",
    "\n",
    "# std_deviation_values = [5]\n",
    "# intervals = np.arange(0.5, 10, 0.5)\n",
    "\n",
    "plot_misclassification(mean_male_height, mean_female_height, std_deviation_values, intervals, size)"
   ],
   "outputs": [
    {
     "name": "stdout",
     "output_type": "stream",
     "text": [
      "\n",
      "SD: 5 =>\n",
      "\n",
      "LIKELIHOOD CLASSIFICATION:\n",
      "Misclassified Males: 72\n",
      "Misclassified Females: 94\n",
      "\n",
      "THRESHOLD CLASSIFICATION:\n",
      "Misclassified Males: 72\n",
      "Misclassified Females: 94\n",
      "\n",
      "QUANTIZATION CLASSIFICATION:\n",
      "Quantization Interval: 0.5\n",
      "Misclassified Males: 74.0\n",
      "Misclassified Females: 90.0\n",
      "\n",
      "Quantization Interval: 1.0\n",
      "Misclassified Males: 97.0\n",
      "Misclassified Females: 69.0\n",
      "\n",
      "Quantization Interval: 1.5\n",
      "Misclassified Males: 74.0\n",
      "Misclassified Females: 90.0\n",
      "\n",
      "Quantization Interval: 2.0\n",
      "Misclassified Males: 66.0\n",
      "Misclassified Females: 104.0\n",
      "\n",
      "Quantization Interval: 2.5\n",
      "Misclassified Males: 74.0\n",
      "Misclassified Females: 90.0\n",
      "\n",
      "Quantization Interval: 3.0\n",
      "Misclassified Males: 137.0\n",
      "Misclassified Females: 42.0\n",
      "\n",
      "Quantization Interval: 3.5\n",
      "Misclassified Males: 161.0\n",
      "Misclassified Females: 34.0\n",
      "\n",
      "Quantization Interval: 4.0\n",
      "Misclassified Males: 137.0\n",
      "Misclassified Females: 42.0\n",
      "\n",
      "Quantization Interval: 4.5\n",
      "Misclassified Males: 74.0\n",
      "Misclassified Females: 90.0\n",
      "\n",
      "Quantization Interval: 5.0\n",
      "Misclassified Males: 187.0\n",
      "Misclassified Females: 25.0\n",
      "\n",
      "Quantization Interval: 5.5\n",
      "Misclassified Males: 66.0\n",
      "Misclassified Females: 104.0\n",
      "\n",
      "Quantization Interval: 6.0\n",
      "Misclassified Males: 137.0\n",
      "Misclassified Females: 42.0\n",
      "\n",
      "Quantization Interval: 6.5\n",
      "Misclassified Males: 24.0\n",
      "Misclassified Females: 229.0\n",
      "\n",
      "Quantization Interval: 7.0\n",
      "Misclassified Males: 44.0\n",
      "Misclassified Females: 152.0\n",
      "\n",
      "Quantization Interval: 7.5\n",
      "Misclassified Males: 74.0\n",
      "Misclassified Females: 90.0\n",
      "\n",
      "Quantization Interval: 8.0\n",
      "Misclassified Males: 137.0\n",
      "Misclassified Females: 42.0\n",
      "\n",
      "Quantization Interval: 8.5\n",
      "Misclassified Males: 215.0\n",
      "Misclassified Females: 18.0\n",
      "\n",
      "Quantization Interval: 9.0\n",
      "Misclassified Males: 328.0\n",
      "Misclassified Females: 9.0\n",
      "\n",
      "Quantization Interval: 9.5\n",
      "Misclassified Males: 14.0\n",
      "Misclassified Females: 262.0\n",
      "\n",
      "--------------------------------------------------------------------------------\n"
     ]
    },
    {
     "data": {
      "text/plain": [
       "<Figure size 1000x600 with 1 Axes>"
      ],
      "image/png": "[encoded data removed]"
     },
     "metadata": {},
     "output_type": "display_data"
    }
   ],
   "execution_count": 30
  },
  {
   "cell_type": "code",
   "execution_count": null,
   "id": "1237d4b3-847f-4055-a0dc-ea2227160bb3",
   "metadata": {},
   "outputs": [],
   "source": []
  }
 ],
 "metadata": {
  "kernelspec": {
   "display_name": "Python 3 (ipykernel)",
   "language": "python",
   "name": "python3"
  },
  "language_info": {
   "codemirror_mode": {
    "name": "ipython",
    "version": 3
   },
   "file_extension": ".py",
   "mimetype": "text/x-python",
   "name": "python",
   "nbconvert_exporter": "python",
   "pygments_lexer": "ipython3",
   "version": "3.11.5"
  }
 },
 "nbformat": 4,
 "nbformat_minor": 5
}
