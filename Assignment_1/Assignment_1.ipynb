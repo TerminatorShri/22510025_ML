{
 "cells": [
  {
   "cell_type": "code",
   "execution_count": null,
   "id": "0",
   "metadata": {
    "tags": []
   },
   "outputs": [],
   "source": [
    "import numpy as np\n",
    "from scipy.stats import norm\n",
    "import matplotlib.pyplot as plt"
   ]
  },
  {
   "cell_type": "code",
   "execution_count": null,
   "id": "1",
   "metadata": {
    "tags": []
   },
   "outputs": [],
   "source": [
    "def generate_dataset(std_deviation):\n",
    "    \"\"\"\n",
    "    Generates a random dataset with given standard deviation and mean using a Gaussian Distribution ( Normal Distribution )\n",
    "    \"\"\"\n",
    "    male_heights = np.random.normal(mean_male_height, std_deviation, size)\n",
    "    female_heights = np.random.normal(mean_female_height, std_deviation, size)\n",
    "    \n",
    "    return male_heights, female_heights"
   ]
  },
  {
   "cell_type": "code",
   "execution_count": null,
   "id": "2",
   "metadata": {
    "tags": []
   },
   "outputs": [],
   "source": [
    "def likelihood(male_heights, female_heights, std_deviation):\n",
    "    \"\"\"\n",
    "    Calculates the likelihood of samples i.e. the probability density of each sample belonging to male and female distributions and compares to make prediction and counts the misclassified samples.\n",
    "    \"\"\"\n",
    "    male_likelihood_m = norm.pdf(male_heights, mean_male_height, std_deviation)\n",
    "    female_likelihood_m = norm.pdf(male_heights, mean_female_height, std_deviation)\n",
    "    misclassified_males = np.sum(female_likelihood_m > male_likelihood_m)\n",
    "\n",
    "    male_likelihood_f = norm.pdf(female_heights, mean_male_height, std_deviation)\n",
    "    female_likelihood_f = norm.pdf(female_heights, mean_female_height, std_deviation)\n",
    "    misclassified_females = np.sum(male_likelihood_f > female_likelihood_f)\n",
    "\n",
    "    return misclassified_males, misclassified_females\n"
   ]
  },
  {
   "cell_type": "code",
   "execution_count": null,
   "id": "3",
   "metadata": {
    "tags": []
   },
   "outputs": [],
   "source": [
    "def threshold(male_heights, female_heights, threshold_val):\n",
    "    \"\"\"\n",
    "    Male heights that are less than or equal to the given threshold will be misclassified as female and female heights that are greater than the given threshold will be misclassified as male.\n",
    "    \"\"\"\n",
    "    misclassified_males = np.sum(male_heights <= threshold_val)\n",
    "    misclassified_females = np.sum(female_heights > threshold_val)\n",
    "\n",
    "    return misclassified_males, misclassified_females\n"
   ]
  },
  {
   "cell_type": "code",
   "execution_count": null,
   "id": "4",
   "metadata": {
    "tags": []
   },
   "outputs": [],
   "source": [
    "def quantization(male_heights, female_heights, interval):\n",
    "    \"\"\"\n",
    "    To predict which data point belongs to which bucket, we first need to determine the bin intervals (ranges). Once the intervals are defined, we identify the upper bound of each bin. To classify a data point, we compare its value with these intervals and assign it to the corresponding bin.\n",
    "    The prediction for a given bin is based on the mode (most frequent value) of the data points within that bin. The majority class in that bin will be the predicted class for any new data point falling into that bin. If a data point belongs to a bin but does not match the mode of that bin, it is considered misclassified.\n",
    "    The statement side = \"right\" is used to handle cases where a data point matches the exact end of an interval. Since the interval is not inclusive of the upper bound, the data point is assigned to the next interval. This ensures that any data point equal to the upper bound of an interval is classified into the subsequent bin.\n",
    "    \"\"\"\n",
    "    min_height = min(male_heights.min(), female_heights.min())\n",
    "    max_height = max(male_heights.max(), female_heights.max())\n",
    "    bins = np.arange(min_height, max_height + interval, interval)\n",
    "    # num_bins = int((max_height - min_height) // interval) + 1\n",
    "\n",
    "    male_counts = np.zeros(len(bins) - 1)\n",
    "    female_counts = np.zeros(len(bins) - 1)\n",
    "\n",
    "    for height in male_heights:\n",
    "        bin_index = np.searchsorted(bins, height, side='right') - 1\n",
    "        # bin_index = int((height - min_height) // interval)\n",
    "        if 0 <= bin_index < len(male_counts):\n",
    "            male_counts[bin_index] += 1\n",
    "\n",
    "    for height in female_heights:\n",
    "        bin_index = np.searchsorted(bins, height, side='right') - 1\n",
    "        # bin_index = int((height - min_height) // interval)\n",
    "        if 0 <= bin_index < len(female_counts):\n",
    "            female_counts[bin_index] += 1\n",
    "\n",
    "    misclassified_males = 0\n",
    "    misclassified_females = 0\n",
    "\n",
    "    for i in range(len(male_counts)):\n",
    "        if female_counts[i] > male_counts[i]:\n",
    "            misclassified_males += male_counts[i]\n",
    "        else:\n",
    "            misclassified_females += female_counts[i]\n",
    "\n",
    "    return misclassified_males, misclassified_females\n"
   ]
  },
  {
   "cell_type": "code",
   "execution_count": null,
   "id": "5",
   "metadata": {},
   "outputs": [],
   "source": [
    "def plot_misclassification(mean_male_height, mean_female_height, std_deviation_values, intervals, size = 1000):\n",
    "    likelihood_males = []\n",
    "    likelihood_females = []\n",
    "    threshold_males = []\n",
    "    threshold_females = []\n",
    "    quantization_males = []\n",
    "    quantization_females = []\n",
    "\n",
    "    for std_deviation in std_deviation_values:\n",
    "        print(f\"\\nSD: {std_deviation} =>\")\n",
    "        male_heights, female_heights = generate_dataset(std_deviation)\n",
    "\n",
    "        # Likelihood Misclassification\n",
    "        misclassified_males, misclassified_females = likelihood(male_heights, female_heights, std_deviation)\n",
    "        print(\"\\nLIKELIHOOD CLASSIFICATION:\")\n",
    "        print(f\"Misclassified Males: {misclassified_males}\")\n",
    "        print(f\"Misclassified Females: {misclassified_females}\")\n",
    "        likelihood_males.append(misclassified_males)\n",
    "        likelihood_females.append(misclassified_females)\n",
    "\n",
    "        # Threshold Misclassification\n",
    "        mean = (mean_male_height + mean_female_height) / 2\n",
    "        misclassified_males, misclassified_females = threshold(male_heights, female_heights, mean)\n",
    "        print(\"\\nTHRESHOLD CLASSIFICATION:\")\n",
    "        print(f\"Misclassified Males: {misclassified_males}\")\n",
    "        print(f\"Misclassified Females: {misclassified_females}\")\n",
    "        threshold_males.append(misclassified_males)\n",
    "        threshold_females.append(misclassified_females)\n",
    "\n",
    "        # Quantization Misclassification\n",
    "        print(\"\\nQUANTIZATION CLASSIFICATION:\")\n",
    "        for interval in intervals:\n",
    "            print(f\"Quantization Interval: {interval}\")\n",
    "            misclassified_males, misclassified_females = quantization(male_heights, female_heights, interval)\n",
    "            print(f\"Misclassified Males: {misclassified_males}\")\n",
    "            print(f\"Misclassified Females: {misclassified_females}\\n\")\n",
    "            quantization_males.append(misclassified_males)\n",
    "            quantization_females.append(misclassified_females)\n",
    "\n",
    "        print(\"--------------------------------------------------------------------------------\")\n",
    "\n",
    "    # Plotting\n",
    "    plt.figure(figsize=(10, 6))\n",
    "\n",
    "    # Likelihood\n",
    "    plt.scatter(std_deviation_values, likelihood_males, color='blue', label='Likelihood Males', marker='o')\n",
    "    plt.scatter(std_deviation_values, likelihood_females, color='red', label='Likelihood Females', marker='x')\n",
    "\n",
    "    # Threshold\n",
    "    plt.scatter(std_deviation_values, threshold_males, color='green', label='Threshold Males', marker='o')\n",
    "    plt.scatter(std_deviation_values, threshold_females, color='orange', label='Threshold Females', marker='x')\n",
    "\n",
    "    # Quantization\n",
    "    repeated_std = np.repeat(std_deviation_values, len(intervals))\n",
    "    plt.scatter(repeated_std, quantization_males, color='purple', label='Quantization Males', marker='o')\n",
    "    plt.scatter(repeated_std, quantization_females, color='pink', label='Quantization Females', marker='x')\n",
    "\n",
    "    plt.xlabel('Standard Deviation')\n",
    "    plt.ylabel('Misclassified Samples')\n",
    "    plt.title('Misclassification Comparison')\n",
    "    plt.legend()\n",
    "    plt.show()"
   ]
  },
  {
   "cell_type": "code",
   "execution_count": null,
   "id": "6",
   "metadata": {
    "tags": []
   },
   "outputs": [],
   "source": [
    "mean_male_height = 166\n",
    "mean_female_height = 152\n",
    "size = 1000\n",
    "\n",
    "# For same interval mis-classification increases as standard deviation goes on increasing\n",
    "std_deviation_values = np.arange(1, 11, 0.5)\n",
    "intervals = [1]\n",
    "\n",
    "# May lead to overfitting as we may not be able to capture noises and complex patterns as data is split into many small segments\n",
    "# intervals = [0.00001]\n",
    "\n",
    "# For same standard deviation mis-classification increases as interval goes on increasing\n",
    "# std_deviation_values = [5]\n",
    "# intervals = np.arange(0.5, 10, 0.5)\n",
    "\n",
    "plot_misclassification(mean_male_height, mean_female_height, std_deviation_values, intervals, size)"
   ]
  },
  {
   "cell_type": "code",
   "execution_count": null,
   "id": "7",
   "metadata": {},
   "outputs": [],
   "source": []
  }
 ],
 "metadata": {
  "kernelspec": {
   "display_name": "base",
   "language": "python",
   "name": "python3"
  },
  "language_info": {
   "codemirror_mode": {
    "name": "ipython",
    "version": 3
   },
   "file_extension": ".py",
   "mimetype": "text/x-python",
   "name": "python",
   "nbconvert_exporter": "python",
   "pygments_lexer": "ipython3",
   "version": "3.11.5"
  }
 },
 "nbformat": 4,
 "nbformat_minor": 5
}
