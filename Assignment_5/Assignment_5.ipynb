{
 "cells": [
  {
   "cell_type": "code",
   "execution_count": null,
   "id": "0",
   "metadata": {},
   "outputs": [],
   "source": [
    "import numpy as np\n",
    "import matplotlib.pyplot as plt\n",
    "from sklearn.model_selection import train_test_split\n",
    "from scipy.stats import zscore, norm"
   ]
  },
  {
   "cell_type": "code",
   "execution_count": null,
   "id": "1",
   "metadata": {},
   "outputs": [],
   "source": [
    "mean_male_height = 166\n",
    "mean_female_height = 152"
   ]
  },
  {
   "cell_type": "code",
   "execution_count": null,
   "id": "2",
   "metadata": {},
   "outputs": [],
   "source": [
    "np.random.seed(42)\n",
    "male_heights = np.random.normal(loc=mean_male_height, scale=5.5, size=1000)\n",
    "female_heights = np.random.normal(loc=mean_female_height, scale=4.5, size=1000)"
   ]
  },
  {
   "cell_type": "code",
   "execution_count": null,
   "id": "3",
   "metadata": {},
   "outputs": [],
   "source": [
    "male_labels = np.zeros(1000)\n",
    "female_labels = np.ones(1000)"
   ]
  },
  {
   "cell_type": "code",
   "execution_count": null,
   "id": "4",
   "metadata": {},
   "outputs": [],
   "source": [
    "heights = np.concatenate((male_heights, female_heights))\n",
    "labels = np.concatenate((male_labels, female_labels))"
   ]
  },
  {
   "cell_type": "code",
   "execution_count": null,
   "id": "5",
   "metadata": {},
   "outputs": [],
   "source": [
    "X_train, X_test, Y_train, Y_test = train_test_split(heights, labels, test_size=0.2, stratify=labels, random_state=42)"
   ]
  },
  {
   "cell_type": "code",
   "execution_count": null,
   "id": "6",
   "metadata": {},
   "outputs": [],
   "source": [
    "def predict_likelihood(X, mean_male, mean_female, std):\n",
    "    male_likelihood = norm.pdf(X, mean_male, std)\n",
    "    female_likelihood = norm.pdf(X, mean_female, std)\n",
    "    return (female_likelihood > male_likelihood).astype(int)"
   ]
  },
  {
   "cell_type": "code",
   "execution_count": null,
   "id": "7",
   "metadata": {},
   "outputs": [],
   "source": [
    "mean_male_height = np.mean(X_train[Y_train == 0])\n",
    "mean_female_height = np.mean(X_train[Y_train == 1])\n",
    "std_deviation = np.std(X_train)"
   ]
  },
  {
   "cell_type": "code",
   "execution_count": null,
   "id": "8",
   "metadata": {},
   "outputs": [],
   "source": [
    "Y_train_pred = predict_likelihood(X_train, mean_male_height, mean_female_height, std_deviation)\n",
    "Y_test_pred = predict_likelihood(X_test, mean_male_height, mean_female_height, std_deviation)"
   ]
  },
  {
   "cell_type": "code",
   "execution_count": null,
   "id": "9",
   "metadata": {},
   "outputs": [],
   "source": [
    "train_accuracy = np.mean(Y_train_pred == Y_train)\n",
    "test_accuracy = np.mean(Y_test_pred == Y_test)\n",
    "print(f'Initial Train Accuracy: {train_accuracy:.4f}, Test Accuracy: {test_accuracy:.4f}')"
   ]
  },
  {
   "cell_type": "code",
   "execution_count": null,
   "id": "10",
   "metadata": {},
   "outputs": [],
   "source": [
    "female_train_indices = np.where(Y_train == 1)[0]\n",
    "top_50_female_indices = female_train_indices[np.argsort(X_train[female_train_indices])[-50:]]\n",
    "X_train[top_50_female_indices] += 10"
   ]
  },
  {
   "cell_type": "code",
   "execution_count": null,
   "id": "11",
   "metadata": {},
   "outputs": [],
   "source": [
    "mean_male_height = np.mean(X_train[Y_train == 0])\n",
    "mean_female_height = np.mean(X_train[Y_train == 1])\n",
    "std_deviation = np.std(X_train)"
   ]
  },
  {
   "cell_type": "code",
   "execution_count": null,
   "id": "12",
   "metadata": {},
   "outputs": [],
   "source": [
    "Y_train_pred = predict_likelihood(X_train, mean_male_height, mean_female_height, std_deviation)\n",
    "Y_test_pred = predict_likelihood(X_test, mean_male_height, mean_female_height, std_deviation)"
   ]
  },
  {
   "cell_type": "code",
   "execution_count": null,
   "id": "13",
   "metadata": {},
   "outputs": [],
   "source": [
    "new_train_accuracy = np.mean(Y_train_pred == Y_train)\n",
    "new_test_accuracy = np.mean(Y_test_pred == Y_test)\n",
    "print(f'After Height Increase - Train Accuracy: {new_train_accuracy:.4f}, Test Accuracy: {new_test_accuracy:.4f}')"
   ]
  },
  {
   "cell_type": "code",
   "execution_count": null,
   "id": "14",
   "metadata": {},
   "outputs": [],
   "source": [
    "female_train_scores = zscore(X_train[female_train_indices])\n",
    "non_outlier_indices = female_train_indices[np.abs(female_train_scores) < 3]\n",
    "\n",
    "X_train_filtered = np.concatenate((X_train[non_outlier_indices], X_train[Y_train == 0]))\n",
    "y_train_filtered = np.concatenate((Y_train[non_outlier_indices], Y_train[Y_train == 0]))"
   ]
  },
  {
   "cell_type": "code",
   "execution_count": null,
   "id": "15",
   "metadata": {},
   "outputs": [],
   "source": [
    "mean_male_height = np.mean(X_train_filtered[y_train_filtered == 0])\n",
    "mean_female_height = np.mean(X_train_filtered[y_train_filtered == 1])\n",
    "std_deviation = np.std(X_train_filtered)"
   ]
  },
  {
   "cell_type": "code",
   "execution_count": null,
   "id": "16",
   "metadata": {},
   "outputs": [],
   "source": [
    "Y_train_pred = predict_likelihood(X_train_filtered, mean_male_height, mean_female_height, std_deviation)\n",
    "Y_test_pred = predict_likelihood(X_test, mean_male_height, mean_female_height, std_deviation)"
   ]
  },
  {
   "cell_type": "code",
   "execution_count": null,
   "id": "17",
   "metadata": {},
   "outputs": [],
   "source": [
    "filtered_train_accuracy = np.mean(Y_train_pred == y_train_filtered)\n",
    "filtered_test_accuracy = np.mean(Y_test_pred == Y_test)\n",
    "print(f'After Outlier Removal - Train Accuracy: {filtered_train_accuracy:.4f}, Test Accuracy: {filtered_test_accuracy:.4f}')"
   ]
  },
  {
   "cell_type": "code",
   "execution_count": null,
   "id": "18",
   "metadata": {},
   "outputs": [],
   "source": [
    "# Trimming\n",
    "trim_results = {}\n",
    "train_accs = []\n",
    "test_accs = []\n",
    "\n",
    "for k in range(1, 16):\n",
    "    lower_percentile = np.percentile(X_train[female_train_indices], k)\n",
    "    upper_percentile = np.percentile(X_train[female_train_indices], 100 - k)\n",
    "    trimmed_indices = female_train_indices[(X_train[female_train_indices] >= lower_percentile) &\n",
    "                                           (X_train[female_train_indices] <= upper_percentile)]\n",
    "\n",
    "    X_train_trimmed = np.concatenate((X_train[trimmed_indices], X_train[Y_train == 0]))\n",
    "    y_train_trimmed = np.concatenate((Y_train[trimmed_indices], Y_train[Y_train == 0]))\n",
    "\n",
    "    mean_male_height = np.mean(X_train_trimmed[y_train_trimmed == 0])\n",
    "    mean_female_height = np.mean(X_train_trimmed[y_train_trimmed == 1])\n",
    "    std_deviation = np.std(X_train_trimmed)\n",
    "\n",
    "    Y_train_pred = predict_likelihood(X_train_trimmed, mean_male_height, mean_female_height, std_deviation)\n",
    "    Y_test_pred = predict_likelihood(X_test, mean_male_height, mean_female_height, std_deviation)\n",
    "\n",
    "    trimmed_train_accuracy = np.mean(Y_train_pred == y_train_trimmed)\n",
    "    trimmed_test_accuracy = np.mean(Y_test_pred == Y_test)\n",
    "\n",
    "    trim_results[k] = (trimmed_train_accuracy, trimmed_test_accuracy)\n",
    "    train_accs.append(trimmed_train_accuracy)\n",
    "    test_accs.append(trimmed_test_accuracy)\n",
    "\n",
    "    print(f'Trimming {k}% - Train Accuracy: {trimmed_train_accuracy:.4f}, Test Accuracy: {trimmed_test_accuracy:.4f}')"
   ]
  },
  {
   "cell_type": "code",
   "execution_count": null,
   "id": "19",
   "metadata": {},
   "outputs": [],
   "source": [
    "# Plotting accuracy vs trimming\n",
    "plt.figure(figsize=(10, 6))\n",
    "plt.plot(range(1, 16), train_accs, marker='o', label='Train Accuracy')\n",
    "plt.plot(range(1, 16), test_accs, marker='s', label='Test Accuracy')\n",
    "plt.xlabel('Trimming Percentage (from each tail of female heights)')\n",
    "plt.ylabel('Accuracy')\n",
    "plt.title('Accuracy vs Trimming Percentage')\n",
    "plt.legend()\n",
    "plt.grid(True)\n",
    "plt.tight_layout()\n",
    "plt.show()"
   ]
  }
 ],
 "metadata": {
  "kernelspec": {
   "display_name": "Python 3",
   "language": "python",
   "name": "python3"
  },
  "language_info": {
   "codemirror_mode": {
    "name": "ipython",
    "version": 2
   },
   "file_extension": ".py",
   "mimetype": "text/x-python",
   "name": "python",
   "nbconvert_exporter": "python",
   "pygments_lexer": "ipython2",
   "version": "2.7.6"
  }
 },
 "nbformat": 4,
 "nbformat_minor": 5
}
