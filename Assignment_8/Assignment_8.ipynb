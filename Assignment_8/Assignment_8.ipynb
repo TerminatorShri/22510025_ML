{
 "cells": [
  {
   "cell_type": "code",
   "execution_count": null,
   "id": "0",
   "metadata": {},
   "outputs": [],
   "source": [
    "import numpy as np\n",
    "import pandas as pd\n",
    "import matplotlib.pyplot as plt\n",
    "import seaborn as sns\n",
    "\n",
    "from sklearn.linear_model import LinearRegression, RidgeCV, LassoCV\n",
    "from sklearn.metrics import mean_squared_error, r2_score\n",
    "from sklearn.model_selection import train_test_split, cross_val_score, KFold\n",
    "from sklearn.preprocessing import PolynomialFeatures, StandardScaler\n",
    "from sklearn.pipeline import make_pipeline"
   ]
  },
  {
   "cell_type": "code",
   "execution_count": null,
   "id": "1",
   "metadata": {},
   "outputs": [],
   "source": [
    "df = pd.read_csv(\"polynomial_regression.csv\")\n",
    "X = df[['x']]\n",
    "Y = df['y']"
   ]
  },
  {
   "cell_type": "code",
   "execution_count": null,
   "id": "2",
   "metadata": {},
   "outputs": [],
   "source": [
    "plt.plot(X, Y, 'o', markersize=3)\n",
    "plt.xlabel(\"x\")\n",
    "plt.ylabel(\"y\")\n",
    "plt.title(\"Data\")"
   ]
  },
  {
   "cell_type": "code",
   "execution_count": null,
   "id": "3",
   "metadata": {},
   "outputs": [],
   "source": [
    "X_train, X_test, Y_train, Y_test = train_test_split(X, Y, test_size=0.2, random_state=42)"
   ]
  },
  {
   "cell_type": "code",
   "execution_count": null,
   "id": "4",
   "metadata": {},
   "outputs": [],
   "source": [
    "np.random.seed(42)\n",
    "sample_size = 20\n",
    "num_samples = 30\n",
    "degrees = range(1, 11)"
   ]
  },
  {
   "cell_type": "code",
   "execution_count": null,
   "id": "5",
   "metadata": {},
   "outputs": [],
   "source": [
    "test_errors_by_degree = {deg: [] for deg in degrees}\n",
    "train_minus_test_errors_by_degree = {deg: [] for deg in degrees}"
   ]
  },
  {
   "cell_type": "code",
   "execution_count": null,
   "id": "6",
   "metadata": {},
   "outputs": [],
   "source": [
    "for _ in range(num_samples):\n",
    "    idx = np.random.choice(len(X_train), size=sample_size, replace=False)\n",
    "    X_sample = X_train.iloc[idx]\n",
    "    Y_sample = Y_train.iloc[idx]\n",
    "\n",
    "    for degree in degrees:\n",
    "        poly = PolynomialFeatures(degree=degree, include_bias=False)\n",
    "        X_sample_poly = poly.fit_transform(X_sample)\n",
    "        X_test_poly = poly.transform(X_test)\n",
    "\n",
    "        model = LinearRegression()\n",
    "        model.fit(X_sample_poly, Y_sample)\n",
    "\n",
    "        Y_sample_pred = model.predict(X_sample_poly)\n",
    "        Y_test_pred = model.predict(X_test_poly)\n",
    "\n",
    "        train_error = mean_squared_error(Y_sample, Y_sample_pred)\n",
    "        test_error = mean_squared_error(Y_test, Y_test_pred)\n",
    "\n",
    "        test_errors_by_degree[degree].append(test_error)\n",
    "        train_minus_test_errors_by_degree[degree].append(train_error - test_error)"
   ]
  },
  {
   "cell_type": "code",
   "execution_count": null,
   "id": "7",
   "metadata": {},
   "outputs": [],
   "source": [
    "test_error_df = pd.DataFrame([\n",
    "    {\"Degree\": deg, \"Test Error\": err}\n",
    "    for deg, errors in test_errors_by_degree.items()\n",
    "    for err in errors\n",
    "])\n",
    "\n",
    "train_minus_test_df = pd.DataFrame([\n",
    "    {\"Degree\": deg, \"Train - Test Error\": err}\n",
    "    for deg, errors in train_minus_test_errors_by_degree.items()\n",
    "    for err in errors\n",
    "])"
   ]
  },
  {
   "cell_type": "code",
   "execution_count": null,
   "id": "8",
   "metadata": {},
   "outputs": [],
   "source": [
    "sns.set_theme(style=\"whitegrid\", palette=\"muted\", font_scale=1.1)\n",
    "\n",
    "plt.figure(figsize=(12, 4))\n",
    "sns.violinplot(data=test_error_df, x=\"Degree\", y=\"Test Error\")\n",
    "plt.title(\"Degree vs Test Error (30 Samples)\")\n",
    "plt.tight_layout()\n",
    "plt.show()\n",
    "\n",
    "plt.figure(figsize=(12, 6))\n",
    "sns.violinplot(data=train_minus_test_df, x=\"Degree\", y=\"Train - Test Error\")\n",
    "plt.title(\"Degree vs (Train Error - Test Error) (30 Samples)\")\n",
    "plt.tight_layout()\n",
    "plt.show()"
   ]
  },
  {
   "cell_type": "code",
   "execution_count": null,
   "id": "9",
   "metadata": {},
   "outputs": [],
   "source": [
    "fig, axes = plt.subplots(2, 2, figsize=(16, 10))\n",
    "\n",
    "sns.violinplot(\n",
    "    data=test_error_df[test_error_df[\"Degree\"] <= 5],\n",
    "    x=\"Degree\", y=\"Test Error\", ax=axes[0, 0]\n",
    ")\n",
    "axes[0, 0].set_title(\"Degree (1–8) vs Test Error\")\n",
    "\n",
    "sns.violinplot(\n",
    "    data=test_error_df[test_error_df[\"Degree\"] > 5],\n",
    "    x=\"Degree\", y=\"Test Error\", ax=axes[0, 1]\n",
    ")\n",
    "axes[0, 1].set_title(\"Degree (9–10) vs Test Error\")\n",
    "\n",
    "sns.violinplot(\n",
    "    data=train_minus_test_df[train_minus_test_df[\"Degree\"] <= 5],\n",
    "    x=\"Degree\", y=\"Train - Test Error\", ax=axes[1, 0]\n",
    ")\n",
    "axes[1, 0].set_title(\"Degree (1–8) vs (Train Error - Test Error)\")\n",
    "\n",
    "sns.violinplot(\n",
    "    data=train_minus_test_df[train_minus_test_df[\"Degree\"] > 5],\n",
    "    x=\"Degree\", y=\"Train - Test Error\", ax=axes[1, 1]\n",
    ")\n",
    "axes[1, 1].set_title(\"Degree (9–10) vs (Train Error - Test Error)\")\n",
    "\n",
    "plt.tight_layout()\n",
    "plt.show()"
   ]
  },
  {
   "cell_type": "code",
   "execution_count": null,
   "id": "10",
   "metadata": {},
   "outputs": [],
   "source": [
    "sns.set_theme(style=\"whitegrid\", palette=\"muted\", font_scale=1.1)\n",
    "fig, axes = plt.subplots(2, 3, figsize=(18, 8))\n",
    "\n",
    "sns.violinplot(data=test_error_df[test_error_df[\"Degree\"].between(1, 4)], x=\"Degree\", y=\"Test Error\", ax=axes[0, 0])\n",
    "axes[0, 0].set_title(\"Degree (1–4) vs Test Error\")\n",
    "\n",
    "sns.violinplot(data=test_error_df[test_error_df[\"Degree\"].between(5, 8)], x=\"Degree\", y=\"Test Error\", ax=axes[0, 1])\n",
    "axes[0, 1].set_title(\"Degree (5–8) vs Test Error\")\n",
    "\n",
    "sns.violinplot(data=test_error_df[test_error_df[\"Degree\"].between(9, 10)], x=\"Degree\", y=\"Test Error\", ax=axes[0, 2])\n",
    "axes[0, 2].set_title(\"Degree (9–10) vs Test Error\")\n",
    "\n",
    "sns.violinplot(data=train_minus_test_df[train_minus_test_df[\"Degree\"].between(1, 4)], x=\"Degree\", y=\"Train - Test Error\", ax=axes[1, 0])\n",
    "axes[1, 0].set_title(\"Degree (1–4) vs (Train Error - Test Error)\")\n",
    "\n",
    "sns.violinplot(data=train_minus_test_df[train_minus_test_df[\"Degree\"].between(5, 8)], x=\"Degree\", y=\"Train - Test Error\", ax=axes[1, 1])\n",
    "axes[1, 1].set_title(\"Degree (5–8) vs (Train Error - Test Error)\")\n",
    "\n",
    "sns.violinplot(data=train_minus_test_df[train_minus_test_df[\"Degree\"].between(9, 10)], x=\"Degree\", y=\"Train - Test Error\", ax=axes[1, 2])\n",
    "axes[1, 2].set_title(\"Degree (9–10) vs (Train Error - Test Error)\")\n",
    "\n",
    "plt.tight_layout()\n",
    "plt.show()"
   ]
  },
  {
   "cell_type": "code",
   "execution_count": null,
   "id": "11",
   "metadata": {},
   "outputs": [],
   "source": [
    "sns.set_theme(style=\"whitegrid\", palette=\"muted\", font_scale=1.1)\n",
    "fig, axes = plt.subplots(2, 5, figsize=(22, 10))\n",
    "axes = axes.flatten()\n",
    "\n",
    "degrees = range(1, 11)\n",
    "\n",
    "for idx, deg in enumerate(degrees):\n",
    "    ax = axes[idx]\n",
    "\n",
    "    sns.violinplot(\n",
    "        data=test_error_df[test_error_df[\"Degree\"] == deg],\n",
    "        x=\"Degree\", y=\"Test Error\",\n",
    "        ax=ax\n",
    "    )\n",
    "    ax.set_title(f\"Degree {deg} - Test Error\")\n",
    "    ax.set_xlabel(\"\")\n",
    "    ax.set_xticks([])\n",
    "\n",
    "plt.tight_layout()\n",
    "plt.show()"
   ]
  },
  {
   "cell_type": "code",
   "execution_count": null,
   "id": "12",
   "metadata": {},
   "outputs": [],
   "source": [
    "sns.set_theme(style=\"whitegrid\", palette=\"muted\", font_scale=1.1)\n",
    "fig, axes = plt.subplots(2, 5, figsize=(22, 10))\n",
    "axes = axes.flatten()\n",
    "\n",
    "degrees = range(1, 11)\n",
    "\n",
    "for idx, deg in enumerate(degrees):\n",
    "    ax = axes[idx]\n",
    "\n",
    "    sns.violinplot(\n",
    "        data=train_minus_test_df[train_minus_test_df[\"Degree\"] == deg],\n",
    "        x=\"Degree\", y=\"Train - Test Error\",\n",
    "        ax=ax\n",
    "    )\n",
    "    ax.set_title(f\"Degree {deg} - Train - Test Error\")\n",
    "    ax.set_xlabel(\"\")\n",
    "    ax.set_xticks([])\n",
    "\n",
    "plt.tight_layout()\n",
    "plt.show()"
   ]
  },
  {
   "cell_type": "code",
   "execution_count": null,
   "id": "13",
   "metadata": {},
   "outputs": [],
   "source": [
    "idx = np.random.choice(len(X_train), size=20, replace=False)\n",
    "X_sample = X_train.iloc[idx]\n",
    "Y_sample = Y_train.iloc[idx]"
   ]
  },
  {
   "cell_type": "code",
   "execution_count": null,
   "id": "14",
   "metadata": {},
   "outputs": [],
   "source": [
    "mean_cv_scores = []\n",
    "for degree in degrees:\n",
    "    pipeline = make_pipeline(PolynomialFeatures(degree, include_bias=False), LinearRegression())\n",
    "    scores = cross_val_score(pipeline, X_sample, Y_sample, cv=5, scoring='neg_mean_squared_error')\n",
    "    mean_cv_scores.append(scores.mean())\n",
    "\n",
    "best_degree = degrees[np.argmax(mean_cv_scores)]\n",
    "print(f\"Best degree from 5-fold CV on sample: {best_degree}\")"
   ]
  },
  {
   "cell_type": "code",
   "execution_count": null,
   "id": "15",
   "metadata": {},
   "outputs": [],
   "source": [
    "final_poly = PolynomialFeatures(degree=best_degree, include_bias=False)\n",
    "X_sample_poly = final_poly.fit_transform(X_sample)\n",
    "X_test_poly = final_poly.transform(X_test)\n",
    "\n",
    "model = LinearRegression()\n",
    "model.fit(X_sample_poly, Y_sample)\n",
    "Y_test_pred = model.predict(X_test_poly)\n",
    "\n",
    "final_test_error = mean_squared_error(Y_test, Y_test_pred)\n",
    "print(f\"Test error of best degree model from CV: {final_test_error:.4f}\")"
   ]
  },
  {
   "cell_type": "code",
   "execution_count": null,
   "id": "16",
   "metadata": {},
   "outputs": [],
   "source": [
    "alphas = np.logspace(-3, 3, 100)"
   ]
  },
  {
   "cell_type": "code",
   "execution_count": null,
   "id": "17",
   "metadata": {},
   "outputs": [],
   "source": [
    "ridge_pipeline = make_pipeline(\n",
    "    PolynomialFeatures(degree=best_degree, include_bias=False),\n",
    "    StandardScaler(),\n",
    "    RidgeCV(alphas=alphas, cv=10, scoring='neg_mean_squared_error')\n",
    ")\n",
    "\n",
    "ridge_pipeline.fit(X_train, Y_train)\n",
    "ridge_test_error = mean_squared_error(Y_test, ridge_pipeline.predict(X_test))\n",
    "ridge_r2_score = r2_score(Y_test, ridge_pipeline.predict(X_test))\n",
    "best_ridge_model = ridge_pipeline.named_steps['ridgecv']\n",
    "print(f\"Ridge best alpha: {best_ridge_model.alpha_:.4f}, Test error: {ridge_test_error:.4f}, R^2: {ridge_r2_score:.4f}\")"
   ]
  },
  {
   "cell_type": "code",
   "execution_count": null,
   "id": "18",
   "metadata": {},
   "outputs": [],
   "source": [
    "lasso_pipeline = make_pipeline(\n",
    "    PolynomialFeatures(degree=best_degree, include_bias=False),\n",
    "    StandardScaler(),\n",
    "    LassoCV(alphas=alphas, cv=10, max_iter=100000)\n",
    ")\n",
    "\n",
    "lasso_pipeline.fit(X_train, Y_train)\n",
    "lasso_test_error = mean_squared_error(Y_test, lasso_pipeline.predict(X_test))\n",
    "lasso_r2_score = r2_score(Y_test, lasso_pipeline.predict(X_test))\n",
    "best_lasso_model = lasso_pipeline.named_steps['lassocv']\n",
    "print(f\"Lasso best alpha: {best_lasso_model.alpha_:.4f}, Test error: {lasso_test_error:.4f}, R^2: {lasso_r2_score:.4f}\")"
   ]
  }
 ],
 "metadata": {
  "kernelspec": {
   "display_name": "Python 3",
   "language": "python",
   "name": "python3"
  },
  "language_info": {
   "codemirror_mode": {
    "name": "ipython",
    "version": 2
   },
   "file_extension": ".py",
   "mimetype": "text/x-python",
   "name": "python",
   "nbconvert_exporter": "python",
   "pygments_lexer": "ipython2",
   "version": "2.7.6"
  }
 },
 "nbformat": 4,
 "nbformat_minor": 5
}
