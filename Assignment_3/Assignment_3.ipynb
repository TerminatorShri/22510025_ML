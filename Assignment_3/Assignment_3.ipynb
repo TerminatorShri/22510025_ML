{
 "cells": [
  {
   "cell_type": "code",
   "execution_count": null,
   "id": "0",
   "metadata": {},
   "outputs": [],
   "source": [
    "import numpy as np\n",
    "import matplotlib.pyplot as plt\n",
    "import seaborn as sns\n",
    "from scipy.stats import norm, zscore, median_abs_deviation"
   ]
  },
  {
   "cell_type": "code",
   "execution_count": null,
   "id": "1",
   "metadata": {},
   "outputs": [],
   "source": [
    "def generate_dataset(mean_male_height, mean_female_height, std_deviation, size):\n",
    "    male_heights = np.random.normal(mean_male_height, std_deviation, size)\n",
    "    female_heights = np.random.normal(mean_female_height, std_deviation, size)\n",
    "\n",
    "    return male_heights, female_heights"
   ]
  },
  {
   "cell_type": "code",
   "execution_count": null,
   "id": "2",
   "metadata": {},
   "outputs": [],
   "source": [
    "# Likelihood-based classification\n",
    "def likelihood(male_heights, female_heights, std_deviation):\n",
    "    male_likelihood_m = norm.pdf(male_heights, np.mean(male_heights), std_deviation)\n",
    "    female_likelihood_m = norm.pdf(male_heights, np.mean(female_heights), std_deviation)\n",
    "    misclassified_males = np.sum(female_likelihood_m > male_likelihood_m)\n",
    "\n",
    "    male_likelihood_f = norm.pdf(female_heights, np.mean(male_heights), std_deviation)\n",
    "    female_likelihood_f = norm.pdf(female_heights, np.mean(female_heights), std_deviation)\n",
    "    misclassified_females = np.sum(male_likelihood_f > female_likelihood_f)\n",
    "\n",
    "    total_samples = len(male_heights) + len(female_heights)\n",
    "    total_misclassified = misclassified_males + misclassified_females\n",
    "\n",
    "    accuracy = 1 - (total_misclassified / total_samples)\n",
    "    return accuracy"
   ]
  },
  {
   "cell_type": "code",
   "execution_count": null,
   "id": "3",
   "metadata": {},
   "outputs": [],
   "source": [
    "# Optimal threshold classification\n",
    "def optimal_threshold(male_heights, female_heights):\n",
    "    best_threshold = None\n",
    "    min_misclassifications = float('inf')\n",
    "\n",
    "    # threshold_val = (np.mean(male_heights) + np.mean(female_heights)) / 2\n",
    "    #\n",
    "    # misclassified_males = np.sum(male_heights <= threshold_val)\n",
    "    # misclassified_females = np.sum(female_heights > threshold_val)\n",
    "\n",
    "    for threshold_val in np.linspace(male_heights.min(), female_heights.max(), 1000):\n",
    "        misclassified_males = np.sum(male_heights <= threshold_val)\n",
    "        misclassified_females = np.sum(female_heights > threshold_val)\n",
    "        total_misclassified = misclassified_males + misclassified_females\n",
    "\n",
    "        if total_misclassified < min_misclassifications:\n",
    "            min_misclassifications = total_misclassified\n",
    "            best_threshold = threshold_val\n",
    "\n",
    "    total_samples = len(male_heights) + len(female_heights)\n",
    "    # total_misclassified = misclassified_males + misclassified_females\n",
    "\n",
    "    # accuracy = 1 - (total_misclassified / total_samples)\n",
    "\n",
    "    accuracy = 1 - (min_misclassifications / total_samples)\n",
    "\n",
    "    return best_threshold, accuracy"
   ]
  },
  {
   "cell_type": "code",
   "execution_count": null,
   "id": "4",
   "metadata": {},
   "outputs": [],
   "source": [
    "# Quantization-based classification\n",
    "def quantization(male_heights, female_heights, interval):\n",
    "    min_height = min(male_heights.min(), female_heights.min())\n",
    "    max_height = max(male_heights.max(), female_heights.max())\n",
    "    bins = np.arange(min_height, max_height + interval, interval)\n",
    "\n",
    "    male_counts = np.zeros(len(bins) - 1)\n",
    "    female_counts = np.zeros(len(bins) - 1)\n",
    "\n",
    "    for height in male_heights:\n",
    "        bin_index = np.searchsorted(bins, height, side='right') - 1\n",
    "        if 0 <= bin_index < len(male_counts):\n",
    "            male_counts[bin_index] += 1\n",
    "\n",
    "    for height in female_heights:\n",
    "        bin_index = np.searchsorted(bins, height, side='right') - 1\n",
    "        if 0 <= bin_index < len(female_counts):\n",
    "            female_counts[bin_index] += 1\n",
    "\n",
    "    misclassified_males = 0\n",
    "    misclassified_females = 0\n",
    "    single_sample_bins = 0\n",
    "\n",
    "    for i in range(len(male_counts)):\n",
    "        total_samples = male_counts[i] + female_counts[i]\n",
    "\n",
    "        if total_samples == 0:\n",
    "            continue  # Ignore empty bins\n",
    "        elif total_samples == 1:\n",
    "            single_sample_bins += 1  # Track single-sample bins separately\n",
    "        else:\n",
    "            if female_counts[i] > male_counts[i]:\n",
    "                misclassified_males += male_counts[i]\n",
    "            else:\n",
    "                misclassified_females += female_counts[i]\n",
    "\n",
    "    total_samples = len(male_heights) + len(female_heights)\n",
    "    total_misclassified = misclassified_males + misclassified_females\n",
    "\n",
    "    accuracy_including_all = 1 - (total_misclassified / total_samples)\n",
    "    accuracy_excluding_single_bins = 1 - (total_misclassified / (total_samples - single_sample_bins))\n",
    "\n",
    "    return accuracy_including_all, accuracy_excluding_single_bins"
   ]
  },
  {
   "cell_type": "code",
   "execution_count": null,
   "id": "5",
   "metadata": {},
   "outputs": [],
   "source": [
    "# Compute Accuracies\n",
    "def compute_accuracies(male_heights, female_heights, std_deviation_values, intervals, size=1000):\n",
    "    accuracies = {\n",
    "        \"likelihood\": [],\n",
    "        \"threshold\": [],\n",
    "        \"quantization\": []\n",
    "    }\n",
    "\n",
    "    for std_deviation in std_deviation_values:\n",
    "\n",
    "        # Likelihood Accuracy\n",
    "        likelihood_accuracy = likelihood(male_heights, female_heights, std_deviation) * 100\n",
    "        accuracies[\"likelihood\"].append(likelihood_accuracy)\n",
    "\n",
    "        # Threshold Accuracy\n",
    "        _, threshold_accuracy = optimal_threshold(male_heights, female_heights)\n",
    "        accuracies[\"threshold\"].append(threshold_accuracy * 100)\n",
    "\n",
    "        # Quantization Accuracy\n",
    "        quantization_accs = []\n",
    "        for interval in intervals:\n",
    "            quantization_accuracy, _ = quantization(male_heights, female_heights, interval)\n",
    "            quantization_accs.append(quantization_accuracy * 100)\n",
    "        accuracies[\"quantization\"].append(quantization_accs)\n",
    "\n",
    "    return accuracies"
   ]
  },
  {
   "cell_type": "code",
   "execution_count": null,
   "id": "6",
   "metadata": {},
   "outputs": [],
   "source": [
    "# Plotting Height Distribution\n",
    "def plot_height(female_heights):\n",
    "    plt.figure(figsize=(10, 7))\n",
    "\n",
    "    # Plot histograms\n",
    "    plt.subplot(2, 1, 1)\n",
    "    plt.hist(female_heights, bins=30, alpha=0.7, color='blue', label='Female Heights')\n",
    "    plt.title(\"Histogram of Heights\")\n",
    "    plt.legend()\n",
    "\n",
    "    # Plot female box plot\n",
    "    plt.subplot(2, 1, 2)\n",
    "    sns.boxplot(x=female_heights, color='blue')\n",
    "    plt.title(\"Box and Whisker Plot - Female Heights\")\n",
    "\n",
    "    plt.tight_layout()\n",
    "    plt.show()"
   ]
  },
  {
   "cell_type": "code",
   "execution_count": null,
   "id": "7",
   "metadata": {},
   "outputs": [],
   "source": [
    "mean_male_height = 166\n",
    "mean_female_height = 152\n",
    "size = 1000\n",
    "\n",
    "std_deviation_values = [2.5]\n",
    "intervals = [4]\n",
    "\n",
    "male_heights, female_heights = generate_dataset(mean_male_height, mean_female_height, std_deviation_values[0], size)"
   ]
  },
  {
   "cell_type": "code",
   "execution_count": null,
   "id": "8",
   "metadata": {},
   "outputs": [],
   "source": [
    "new_female_heights = np.sort(female_heights)\n",
    "new_female_heights[-50:] += 10\n",
    "\n",
    "mean_before = np.mean(female_heights)\n",
    "std_deviation_before = np.std(female_heights)\n",
    "mean_after = np.mean(new_female_heights)\n",
    "std_deviation_after = np.std(new_female_heights)\n",
    "\n",
    "print(f\"Mean Before : {mean_before} Standard Deviation Before: {std_deviation_before}\")\n",
    "print(f\"Mean After : {mean_after} Standard Deviation After: {std_deviation_after}\")"
   ]
  },
  {
   "cell_type": "code",
   "execution_count": null,
   "id": "9",
   "metadata": {},
   "outputs": [],
   "source": [
    "# Calculating accuracies before introduction of outliers\n",
    "accuracies = compute_accuracies(male_heights, female_heights, std_deviation_values, intervals, size)\n",
    "print(\"Accuracies Before Introduction of Outliers\")\n",
    "print(\"Likelihood Accuracies:\", accuracies[\"likelihood\"])\n",
    "print(\"Threshold Accuracies:\", accuracies[\"threshold\"])\n",
    "print(\"Quantization Accuracies:\", accuracies[\"quantization\"])\n",
    "plot_height(female_heights)"
   ]
  },
  {
   "cell_type": "code",
   "execution_count": null,
   "id": "10",
   "metadata": {},
   "outputs": [],
   "source": [
    "# Calculating accuracies after introduction of outliers\n",
    "accuracies = compute_accuracies(male_heights, new_female_heights, std_deviation_values, intervals, size)\n",
    "print(\"Accuracies Before Introduction of Outliers\")\n",
    "print(\"Likelihood Accuracies:\", accuracies[\"likelihood\"])\n",
    "print(\"Threshold Accuracies:\", accuracies[\"threshold\"])\n",
    "print(\"Quantization Accuracies:\", accuracies[\"quantization\"])\n",
    "plot_height(new_female_heights)"
   ]
  },
  {
   "cell_type": "code",
   "execution_count": null,
   "id": "11",
   "metadata": {},
   "outputs": [],
   "source": [
    "# Using z-score to remove outliers ( as values above certain z-score threshold indicate an extreme value )\n",
    "z_score_females = zscore(new_female_heights)\n",
    "\n",
    "outlier_mask_using_zscore = np.abs(z_score_females) > 2\n",
    "\n",
    "num_outlier_zscore = np.sum(outlier_mask_using_zscore)\n",
    "print(f\"Number of Outliers using Z-Score: {num_outlier_zscore}\")\n",
    "\n",
    "female_heights_using_zscore_cutoff = new_female_heights[~outlier_mask_using_zscore]\n",
    "\n",
    "plot_height(female_heights_using_zscore_cutoff)"
   ]
  },
  {
   "cell_type": "code",
   "execution_count": null,
   "id": "12",
   "metadata": {},
   "outputs": [],
   "source": [
    "# Using IQR to remove outliers\n",
    "Q1, Q3 = np.percentile(new_female_heights, [25, 75])\n",
    "IQR = Q3 - Q1\n",
    "lower_bound = Q1 - 1.5 * IQR\n",
    "upper_bound = Q3 + 1.5 * IQR\n",
    "\n",
    "outlier_mask_using_iqr = (new_female_heights < lower_bound) | (new_female_heights > upper_bound)\n",
    "\n",
    "num_outlier_iqr = np.sum(outlier_mask_using_iqr)\n",
    "print(f\"Number of Outliers using IQR: {num_outlier_iqr}\")\n",
    "\n",
    "female_heights_using_iqr_cutoff = new_female_heights[~outlier_mask_using_iqr]\n",
    "\n",
    "plot_height(female_heights_using_iqr_cutoff)"
   ]
  },
  {
   "cell_type": "code",
   "execution_count": null,
   "id": "13",
   "metadata": {},
   "outputs": [],
   "source": [
    "# Using MAD to remove outliers\n",
    "median_female = np.median(new_female_heights)\n",
    "absolute_deviation = np.abs(new_female_heights - median_female)\n",
    "\n",
    "MAD = np.median(absolute_deviation)"
   ]
  },
  {
   "cell_type": "code",
   "execution_count": null,
   "id": "14",
   "metadata": {},
   "outputs": [],
   "source": [
    "# Using 1.5 as multiplier for MAD\n",
    "outlier_mask_using_mad = absolute_deviation > 1.5 * MAD\n",
    "\n",
    "num_outlier_mad = np.sum(outlier_mask_using_mad)\n",
    "print(f\"Number of Outliers using MAD with 1.5 multiplier: {num_outlier_mad}\")\n",
    "\n",
    "female_heights_using_mad_cutoff = new_female_heights[absolute_deviation <= 1.5 * MAD]\n",
    "\n",
    "plot_height(female_heights_using_mad_cutoff)"
   ]
  },
  {
   "cell_type": "code",
   "execution_count": null,
   "id": "15",
   "metadata": {},
   "outputs": [],
   "source": [
    "# Using 3 as multiplier for MAD\n",
    "outlier_mask_using_mad = absolute_deviation > 3 * MAD\n",
    "\n",
    "num_outlier_mad = np.sum(outlier_mask_using_mad)\n",
    "print(f\"Number of Outliers using MAD with 3 multiplier: {num_outlier_mad}\")\n",
    "\n",
    "female_heights_using_mad_cutoff = new_female_heights[absolute_deviation <= 3 * MAD]\n",
    "\n",
    "plot_height(female_heights_using_mad_cutoff)"
   ]
  },
  {
   "cell_type": "code",
   "execution_count": null,
   "id": "16",
   "metadata": {},
   "outputs": [],
   "source": [
    "# Calculating accuracies after removal of outliers ( using values obtained from Z-Score cutoff )\n",
    "accuracies_after = compute_accuracies(male_heights, female_heights_using_zscore_cutoff, std_deviation_values, intervals, size)\n",
    "print(\"Accuracies After Removal of Outliers using Z-Score Cutoff\")\n",
    "print(\"Likelihood Accuracies:\", accuracies_after[\"likelihood\"])\n",
    "print(\"Threshold Accuracies:\", accuracies_after[\"threshold\"])\n",
    "print(\"Quantization Accuracies:\", accuracies_after[\"quantization\"])"
   ]
  },
  {
   "cell_type": "code",
   "execution_count": null,
   "id": "17",
   "metadata": {},
   "outputs": [],
   "source": [
    "# Calculating accuracies after removal of outliers ( using values obtained from IQR cutoff )\n",
    "accuracies_after = compute_accuracies(male_heights, female_heights_using_iqr_cutoff, std_deviation_values, intervals, size)\n",
    "print(\"Accuracies After Removal of Outliers using IQR Cutoff\")\n",
    "print(\"Likelihood Accuracies:\", accuracies_after[\"likelihood\"])\n",
    "print(\"Threshold Accuracies:\", accuracies_after[\"threshold\"])\n",
    "print(\"Quantization Accuracies:\", accuracies_after[\"quantization\"])"
   ]
  },
  {
   "cell_type": "code",
   "execution_count": null,
   "id": "18",
   "metadata": {},
   "outputs": [],
   "source": [
    "# Calculating accuracies after removal of outliers ( using values obtained from MAD cutoff )\n",
    "accuracies_after = compute_accuracies(male_heights, female_heights, std_deviation_values, intervals, size)\n",
    "print(\"Accuracies After Removal of Outliers using MAD Cutoff\")\n",
    "print(\"Likelihood Accuracies:\", accuracies_after[\"likelihood\"])\n",
    "print(\"Threshold Accuracies:\", accuracies_after[\"threshold\"])\n",
    "print(\"Quantization Accuracies:\", accuracies_after[\"quantization\"])"
   ]
  },
  {
   "cell_type": "code",
   "execution_count": null,
   "id": "19",
   "metadata": {},
   "outputs": [],
   "source": [
    "# Data Trimming\n",
    "def trim_data(heights, k):\n",
    "    lower_bound = np.percentile(heights, k)\n",
    "    upper_bound = np.percentile(heights, 100 - k)\n",
    "    return heights[(heights >= lower_bound) & (heights <= upper_bound)]"
   ]
  },
  {
   "cell_type": "code",
   "execution_count": null,
   "id": "20",
   "metadata": {},
   "outputs": [],
   "source": [
    "trim_percentages = np.arange(1, 16, 1)\n",
    "accuracies = {\"likelihood\": [], \"threshold\": [], \"quantization\": []}\n",
    "\n",
    "for k in trim_percentages:\n",
    "    trimmed_female_heights = trim_data(new_female_heights, k)\n",
    "\n",
    "    accuracy_values = compute_accuracies(male_heights, trimmed_female_heights, std_deviation_values, intervals, size)\n",
    "\n",
    "    accuracies[\"likelihood\"].append(accuracy_values[\"likelihood\"][0])\n",
    "    accuracies[\"threshold\"].append(accuracy_values[\"threshold\"][0])\n",
    "    accuracies[\"quantization\"].append(accuracy_values[\"quantization\"][0][0])\n",
    "\n",
    "plt.figure(figsize=(10, 5))\n",
    "plt.plot(trim_percentages, accuracies[\"likelihood\"], marker='o', label=\"Likelihood\")\n",
    "plt.plot(trim_percentages, accuracies[\"threshold\"], marker='s', label=\"Threshold\")\n",
    "plt.plot(trim_percentages, accuracies[\"quantization\"], marker='^', label=\"Quantization\")\n",
    "plt.xlabel(\"Trimming Percentage (k%)\")\n",
    "plt.ylabel(\"Classification Accuracy (%)\")\n",
    "plt.title(\"Impact of Data Trimming on Classification Accuracy\")\n",
    "plt.legend()\n",
    "plt.show()"
   ]
  }
 ],
 "metadata": {
  "kernelspec": {
   "display_name": "Python 3",
   "language": "python",
   "name": "python3"
  },
  "language_info": {
   "codemirror_mode": {
    "name": "ipython",
    "version": 2
   },
   "file_extension": ".py",
   "mimetype": "text/x-python",
   "name": "python",
   "nbconvert_exporter": "python",
   "pygments_lexer": "ipython2",
   "version": "2.7.6"
  }
 },
 "nbformat": 4,
 "nbformat_minor": 5
}
