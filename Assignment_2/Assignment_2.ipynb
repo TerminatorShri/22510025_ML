{
 "cells": [
  {
   "cell_type": "code",
   "execution_count": null,
   "id": "0",
   "metadata": {
    "tags": []
   },
   "outputs": [],
   "source": [
    "import numpy as np\n",
    "import matplotlib.pyplot as plt\n",
    "from scipy.stats import powerlaw, geom, zscore, rankdata\n",
    "from sklearn.preprocessing import quantile_transform\n",
    "import seaborn as sns"
   ]
  },
  {
   "cell_type": "code",
   "execution_count": null,
   "id": "1",
   "metadata": {
    "tags": []
   },
   "outputs": [],
   "source": [
    "B = np.random.normal(loc=5, scale=2, size=10000)  \n",
    "I = powerlaw.rvs(a=0.3, size=10000)\n",
    "H = geom.rvs(p=0.01, size=10000)"
   ]
  },
  {
   "cell_type": "code",
   "execution_count": null,
   "id": "2",
   "metadata": {
    "tags": []
   },
   "outputs": [],
   "source": [
    "plt.figure(figsize=(10, 6))\n",
    "plt.boxplot([B, I, H], labels=['B (Gaussian)', 'I (Power Law)', 'H (Geometric)'])\n",
    "plt.title('Comparison of Variables')\n",
    "plt.ylabel('Values')\n",
    "plt.grid(axis='y')\n",
    "plt.show()"
   ]
  },
  {
   "cell_type": "code",
   "execution_count": null,
   "id": "3",
   "metadata": {
    "tags": []
   },
   "outputs": [],
   "source": [
    "def compare_histograms(original, normalized, name):\n",
    "    plt.figure(figsize=(14, 8))\n",
    "\n",
    "    plt.subplot(1, 2, 1)\n",
    "    sns.histplot(original, bins='auto', color='orange', kde=False)\n",
    "    plt.title(f'{name} Original')\n",
    "    plt.xlabel('Values')\n",
    "    plt.ylabel('Frequency')\n",
    "\n",
    "    plt.subplot(1, 2, 2)\n",
    "    sns.histplot(normalized, bins='auto', color='blue', kde=False)\n",
    "    plt.title(f'{name} Normalized')\n",
    "    plt.xlabel('Values')\n",
    "    plt.ylabel('Frequency')\n",
    "\n",
    "    plt.tight_layout()\n",
    "    plt.show()"
   ]
  },
  {
   "cell_type": "code",
   "execution_count": null,
   "id": "4",
   "metadata": {},
   "outputs": [],
   "source": [
    "def compare_boxplots(*args, labels):\n",
    "    plt.figure(figsize=(14, 8))\n",
    "    plt.boxplot(args, labels=labels, vert=False)\n",
    "    plt.title('Comparison of Normalized Variables')\n",
    "    plt.xlabel('Values')\n",
    "    plt.grid(axis='x')\n",
    "    plt.show()"
   ]
  },
  {
   "cell_type": "code",
   "execution_count": null,
   "id": "5",
   "metadata": {
    "tags": []
   },
   "outputs": [],
   "source": [
    "# Divide each variable by max\n",
    "B_max = B / np.max(B)\n",
    "I_max = I / np.max(I)\n",
    "H_max = H / np.max(H)\n",
    "\n",
    "compare_histograms(B, B_max, 'B (Max Normalized)')\n",
    "compare_histograms(I, I_max, 'I (Max Normalized)')\n",
    "compare_histograms(H, H_max, 'H (Max Normalized)')\n",
    "compare_boxplots(B_max, I_max, H_max, labels=['B_max', 'I_max', 'H_max'])"
   ]
  },
  {
   "cell_type": "code",
   "execution_count": null,
   "id": "6",
   "metadata": {
    "tags": []
   },
   "outputs": [],
   "source": [
    "# Divide by sum of its values\n",
    "B_sum = B / np.sum(B)\n",
    "I_sum = I / np.sum(I)\n",
    "H_sum = H / np.sum(H)\n",
    "\n",
    "compare_histograms(B, B_sum, 'B (Sum Normalized)')\n",
    "compare_histograms(I, I_sum, 'I (Sum Normalized)')\n",
    "compare_histograms(H, H_sum, 'H (Sum Normalized)')\n",
    "compare_boxplots(B_sum, I_sum, H_sum, labels=['B_sum', 'I_sum', 'H_sum'])"
   ]
  },
  {
   "cell_type": "code",
   "execution_count": null,
   "id": "7",
   "metadata": {
    "tags": []
   },
   "outputs": [],
   "source": [
    "# Convert into z-score \n",
    "B_zscore = zscore(B)\n",
    "I_zscore = zscore(I)\n",
    "H_zscore = zscore(H)\n",
    "\n",
    "compare_histograms(B, B_zscore, 'B (Z-score Normalized)')\n",
    "compare_histograms(I, I_zscore, 'I (Z-score Normalized)')\n",
    "compare_histograms(H, H_zscore, 'H (Z-score Normalized)')\n",
    "compare_boxplots(B_zscore, I_zscore, H_zscore, labels=['B_zscore', 'I_zscore', 'H_zscore'])"
   ]
  },
  {
   "cell_type": "code",
   "execution_count": null,
   "id": "8",
   "metadata": {
    "tags": []
   },
   "outputs": [],
   "source": [
    "# Convert into percentile\n",
    "B_percentile = rankdata(B, method='max') / len(B)\n",
    "I_percentile = rankdata(I, method='dense') / len(I)\n",
    "H_percentile = rankdata(H, method='min') / len(H)\n",
    "\n",
    "compare_histograms(B, B_percentile, 'B (Percentile Normalized)')\n",
    "compare_histograms(I, I_percentile, 'I (Percentile Normalized)')\n",
    "compare_histograms(H, H_percentile, 'H (Percentile Normalized)')\n",
    "compare_boxplots(B_percentile, I_percentile, H_percentile, labels=['B_percentile', 'I_percentile', 'H_percentile'])"
   ]
  },
  {
   "cell_type": "code",
   "execution_count": null,
   "id": "9",
   "metadata": {
    "tags": []
   },
   "outputs": [],
   "source": [
    "# Make mean of all variables same\n",
    "medians = [np.median(B), np.median(I), np.median(H)]\n",
    "m1 = np.mean(medians)\n",
    "B_median_adjusted = B * (m1 / medians[0])\n",
    "I_median_adjusted = I * (m1 / medians[1])\n",
    "H_median_adjusted = H * (m1 / medians[2])\n",
    "\n",
    "compare_histograms(B, B_median_adjusted, 'B (Median Adjusted)')\n",
    "compare_histograms(I, I_median_adjusted, 'I (Median Adjusted)')\n",
    "compare_histograms(H, H_median_adjusted, 'H (Median Adjusted)')\n",
    "compare_boxplots(B_median_adjusted, I_median_adjusted, H_median_adjusted, labels=['B_median_adjusted', 'I_median_adjusted', 'H_median_adjusted'])"
   ]
  },
  {
   "cell_type": "code",
   "execution_count": null,
   "id": "10",
   "metadata": {
    "tags": []
   },
   "outputs": [],
   "source": [
    "# Quantile Normalization\n",
    "stacked = np.column_stack([B, I, H])\n",
    "quantile_normalized = quantile_transform(stacked, axis=0, copy=True, output_distribution='normal')\n",
    "B_quantile, I_quantile, H_quantile = quantile_normalized.T\n",
    "\n",
    "compare_histograms(B, B_quantile, 'B (Quantile Normalized)')\n",
    "compare_histograms(I, I_quantile, 'I (Quantile Normalized)')\n",
    "compare_histograms(H, H_quantile, 'H (Quantile Normalized)')\n",
    "compare_boxplots(B_quantile, I_quantile, H_quantile, labels=['B_quantile', 'I_quantile', 'H_quantile'])"
   ]
  },
  {
   "cell_type": "code",
   "execution_count": null,
   "id": "11",
   "metadata": {},
   "outputs": [],
   "source": []
  }
 ],
 "metadata": {
  "kernelspec": {
   "display_name": "base",
   "language": "python",
   "name": "python3"
  },
  "language_info": {
   "codemirror_mode": {
    "name": "ipython",
    "version": 3
   },
   "file_extension": ".py",
   "mimetype": "text/x-python",
   "name": "python",
   "nbconvert_exporter": "python",
   "pygments_lexer": "ipython3",
   "version": "3.11.5"
  }
 },
 "nbformat": 4,
 "nbformat_minor": 5
}
